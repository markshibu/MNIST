{
 "cells": [
  {
   "cell_type": "code",
   "execution_count": 92,
   "metadata": {},
   "outputs": [],
   "source": [
    "import time\n",
    "import torch\n",
    "import torchvision\n",
    "import torchvision.transforms as transforms\n",
    "import numpy as np\n",
    "import torch.nn as nn\n",
    "import torch.nn.functional as F\n",
    "import torch.optim as optim\n",
    "import tensorflow as tf\n",
    "import matplotlib.pyplot as plt\n",
    "%matplotlib inline\n",
    "%config InlineBackend.figure_format = 'retina'"
   ]
  },
  {
   "cell_type": "code",
   "execution_count": 3,
   "metadata": {},
   "outputs": [
    {
     "data": {
      "text/plain": [
       "'GeForce GTX 1060'"
      ]
     },
     "execution_count": 3,
     "metadata": {},
     "output_type": "execute_result"
    }
   ],
   "source": [
    "device = torch.device(0)\n",
    "torch.cuda.get_device_name(0)"
   ]
  },
  {
   "cell_type": "code",
   "execution_count": 63,
   "metadata": {},
   "outputs": [],
   "source": [
    "(x_train, y_train), (x_test, y_test) = tf.keras.datasets.mnist.load_data()"
   ]
  },
  {
   "cell_type": "code",
   "execution_count": 64,
   "metadata": {},
   "outputs": [],
   "source": [
    "x_train = torch.Tensor(x_train)\n",
    "y_train = torch.Tensor(y_train)\n",
    "x_test = torch.Tensor(x_test)\n",
    "y_test = torch.Tensor(y_test)"
   ]
  },
  {
   "cell_type": "code",
   "execution_count": 65,
   "metadata": {},
   "outputs": [],
   "source": [
    "x_train = x_train.view(-1,28*28)\n",
    "x_test = x_test.view(-1,28*28)\n",
    "x_train, y_train = x_train.to(device), y_train.to(device).long()\n",
    "x_test, y_test = x_test.to(device), y_test.to(device).long()"
   ]
  },
  {
   "cell_type": "code",
   "execution_count": 66,
   "metadata": {},
   "outputs": [
    {
     "name": "stdout",
     "output_type": "stream",
     "text": [
      "torch.Size([60000, 784])\n",
      "torch.Size([60000])\n"
     ]
    }
   ],
   "source": [
    "print(x_train.shape)\n",
    "print(y_train.shape)"
   ]
  },
  {
   "cell_type": "code",
   "execution_count": 67,
   "metadata": {},
   "outputs": [],
   "source": [
    "class LR(nn.Module):\n",
    "    def __init__(self, input_size, num_classes):\n",
    "        super(LR,self).__init__()\n",
    "        self.lr = nn.Linear(input_size,num_classes)\n",
    "        \n",
    "    def forward(self,x):\n",
    "        x = self.lr(x)\n",
    "        return x"
   ]
  },
  {
   "cell_type": "code",
   "execution_count": 83,
   "metadata": {},
   "outputs": [],
   "source": [
    "input_size = 28*28\n",
    "num_classes = 10\n",
    "learning_rate = 0.01\n",
    "\n",
    "model = LR(input_size, num_classes).to(device)\n",
    "criterion = nn.CrossEntropyLoss()\n",
    "optimizer = optim.SGD(model.parameters(),lr=learning_rate)"
   ]
  },
  {
   "cell_type": "code",
   "execution_count": 84,
   "metadata": {},
   "outputs": [],
   "source": [
    "def get_precision(model):\n",
    "    outputs = model(x_test)\n",
    "    _, predicted = torch.max(outputs.data, 1)\n",
    "    correct = (predicted == y_test).sum().item()\n",
    "    total = y_test.size(0)\n",
    "    return correct/total"
   ]
  },
  {
   "cell_type": "code",
   "execution_count": 85,
   "metadata": {},
   "outputs": [
    {
     "name": "stdout",
     "output_type": "stream",
     "text": [
      "0.5009 %\n",
      "0.4233 %\n",
      "0.4318 %\n",
      "0.3897 %\n",
      "0.4235 %\n",
      "0.5744 %\n",
      "0.4874 %\n",
      "0.4911 %\n",
      "0.6645 %\n",
      "0.7004 %\n",
      "0.7058 %\n",
      "0.7119 %\n",
      "0.7056 %\n",
      "0.7204 %\n",
      "0.7518 %\n",
      "0.7789 %\n",
      "0.8023 %\n",
      "0.8174 %\n",
      "0.8228 %\n",
      "0.8219 %\n",
      "0.8182 %\n",
      "0.818 %\n",
      "0.8207 %\n",
      "0.8257 %\n",
      "0.8277 %\n",
      "0.8277 %\n",
      "0.8276 %\n",
      "0.8281 %\n",
      "0.83 %\n",
      "0.8356 %\n",
      "0.8391 %\n",
      "0.8468 %\n",
      "0.853 %\n",
      "0.8565 %\n",
      "0.8555 %\n",
      "0.8541 %\n",
      "0.8541 %\n",
      "0.856 %\n",
      "0.8592 %\n",
      "0.8658 %\n",
      "0.8725 %\n",
      "0.8788 %\n",
      "0.8828 %\n",
      "0.8852 %\n",
      "0.8856 %\n",
      "0.8834 %\n",
      "0.8801 %\n",
      "0.8758 %\n",
      "0.8748 %\n",
      "0.8742 %\n",
      "0.8744 %\n",
      "0.8765 %\n",
      "0.8805 %\n",
      "0.8837 %\n",
      "0.8856 %\n",
      "0.8872 %\n",
      "0.889 %\n",
      "0.8901 %\n",
      "0.8892 %\n",
      "0.8874 %\n",
      "0.8862 %\n",
      "0.8847 %\n",
      "0.8831 %\n",
      "0.8827 %\n",
      "0.8821 %\n",
      "0.8829 %\n",
      "0.8845 %\n",
      "0.8854 %\n",
      "0.8863 %\n",
      "0.8863 %\n",
      "0.8861 %\n",
      "0.8864 %\n",
      "0.8881 %\n",
      "0.8882 %\n",
      "0.8888 %\n",
      "0.8882 %\n",
      "0.8899 %\n",
      "0.8919 %\n",
      "0.8928 %\n",
      "0.8945 %\n",
      "0.8958 %\n",
      "0.8979 %\n",
      "0.8988 %\n",
      "0.9001 %\n",
      "0.9002 %\n",
      "0.901 %\n",
      "0.9012 %\n",
      "0.9016 %\n",
      "0.9004 %\n",
      "0.9003 %\n",
      "0.9001 %\n",
      "0.8999 %\n",
      "0.8987 %\n",
      "0.8981 %\n",
      "0.8971 %\n",
      "0.8963 %\n",
      "0.8954 %\n",
      "0.8953 %\n",
      "0.8955 %\n",
      "0.8962 %\n"
     ]
    }
   ],
   "source": [
    "for epoch in range(100):\n",
    "    outputs = model(x_train)\n",
    "    loss = criterion(outputs, y_train)\n",
    "    loss.backward()\n",
    "    optimizer.step()\n",
    "    print(get_precision(model),'%')"
   ]
  },
  {
   "cell_type": "code",
   "execution_count": null,
   "metadata": {},
   "outputs": [],
   "source": [
    "from sklearn import linear_model\n",
    "from sklearn import metrics\n",
    "from sklearn.ensemble import RandomForestClassifier"
   ]
  },
  {
   "cell_type": "code",
   "execution_count": 87,
   "metadata": {},
   "outputs": [],
   "source": [
    "(x_train, y_train), (x_test, y_test) = tf.keras.datasets.mnist.load_data()\n",
    "x_train = x_train.reshape(-1,28*28)\n",
    "x_test = x_test.reshape(-1,28*28)\n",
    "lr = linear_model.LogisticRegression(multi_class='auto', solver='newton-cg', n_jobs=4)"
   ]
  },
  {
   "cell_type": "code",
   "execution_count": 91,
   "metadata": {},
   "outputs": [
    {
     "name": "stdout",
     "output_type": "stream",
     "text": [
      "0.8665\n",
      "997.4011402130127\n"
     ]
    },
    {
     "data": {
      "text/plain": [
       "array([[ 915,    0,   14,    6,    0,   16,   15,    3,    9,    2],\n",
       "       [   0, 1088,   11,    7,    1,    5,    4,    0,   16,    3],\n",
       "       [   6,   17,  857,   34,    7,   10,   23,   19,   54,    5],\n",
       "       [   2,    4,   26,  852,    2,   47,    5,   18,   41,   13],\n",
       "       [   5,    6,    6,    6,  864,    7,   16,   18,   15,   39],\n",
       "       [  14,    5,    6,   55,    8,  711,   19,    4,   56,   14],\n",
       "       [  11,    2,   24,    1,   17,   23,  872,    1,    7,    0],\n",
       "       [   0,   10,   25,   18,    9,    4,    0,  908,    5,   49],\n",
       "       [   4,   21,   21,   41,   18,   49,   13,   14,  771,   22],\n",
       "       [   3,    9,    2,   20,   55,   21,    3,   53,   16,  827]],\n",
       "      dtype=int64)"
      ]
     },
     "execution_count": 91,
     "metadata": {},
     "output_type": "execute_result"
    }
   ],
   "source": [
    "start = time.time()\n",
    "lr.fit(x_train[:10000],y_train[:10000])\n",
    "pred = lr.predict(x_test)\n",
    "print(metrics.accuracy_score(y_test,pred))\n",
    "print(time.time()-start)\n",
    "metrics.confusion_matrix(y_test,pred)"
   ]
  },
  {
   "cell_type": "code",
   "execution_count": 90,
   "metadata": {},
   "outputs": [
    {
     "name": "stdout",
     "output_type": "stream",
     "text": [
      "0.9484\n",
      "4.0548906326293945\n"
     ]
    },
    {
     "data": {
      "text/plain": [
       "array([[ 971,    0,    0,    0,    0,    3,    1,    1,    4,    0],\n",
       "       [   0, 1122,    2,    1,    2,    1,    2,    1,    3,    1],\n",
       "       [  10,    1,  986,    7,    5,    0,    2,   11,   10,    0],\n",
       "       [   4,    0,   19,  944,    0,   18,    1,   12,   11,    1],\n",
       "       [   2,    2,    1,    0,  936,    3,    6,    2,    4,   26],\n",
       "       [   4,    2,    4,   27,    5,  828,    6,    4,    8,    4],\n",
       "       [  11,    3,    4,    2,    8,   12,  917,    0,    1,    0],\n",
       "       [   4,    5,   26,    3,    4,    0,    0,  973,    2,   11],\n",
       "       [   6,    3,   10,   16,    9,   20,    9,    7,  881,   13],\n",
       "       [   8,    5,    4,    8,   25,   11,    1,    6,   15,  926]],\n",
       "      dtype=int64)"
      ]
     },
     "execution_count": 90,
     "metadata": {},
     "output_type": "execute_result"
    }
   ],
   "source": [
    "start = time.time()\n",
    "rf = RandomForestClassifier(n_estimators=10)\n",
    "rf.fit(x_train,y_train)\n",
    "pred = rf.predict(x_test)\n",
    "print(metrics.accuracy_score(y_test,pred))\n",
    "print(time.time()-start)\n",
    "metrics.confusion_matrix(y_test,pred)"
   ]
  },
  {
   "cell_type": "code",
   "execution_count": null,
   "metadata": {},
   "outputs": [],
   "source": []
  }
 ],
 "metadata": {
  "kernelspec": {
   "display_name": "Python 3",
   "language": "python",
   "name": "python3"
  },
  "language_info": {
   "codemirror_mode": {
    "name": "ipython",
    "version": 3
   },
   "file_extension": ".py",
   "mimetype": "text/x-python",
   "name": "python",
   "nbconvert_exporter": "python",
   "pygments_lexer": "ipython3",
   "version": "3.6.8"
  }
 },
 "nbformat": 4,
 "nbformat_minor": 2
}
