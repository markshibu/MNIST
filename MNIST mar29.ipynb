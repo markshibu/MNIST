{
 "cells": [
  {
   "cell_type": "code",
   "execution_count": 1,
   "metadata": {},
   "outputs": [],
   "source": [
    "import torch\n",
    "from torch import nn\n",
    "import time\n",
    "import numpy as np\n",
    "import torch.optim as optim\n",
    "import torch.nn.functional as F\n",
    "import tensorflow as tf\n",
    "from sklearn import metrics\n",
    "from sklearn import linear_model\n",
    "import matplotlib.pyplot as plt\n",
    "%matplotlib inline\n",
    "%config InlineBackend.figure_format = 'retina'"
   ]
  },
  {
   "cell_type": "markdown",
   "metadata": {},
   "source": [
    "### LR using pytorch"
   ]
  },
  {
   "cell_type": "code",
   "execution_count": 2,
   "metadata": {},
   "outputs": [
    {
     "data": {
      "text/plain": [
       "'GeForce GTX 1060'"
      ]
     },
     "execution_count": 2,
     "metadata": {},
     "output_type": "execute_result"
    }
   ],
   "source": [
    "device = torch.device(0)\n",
    "torch.cuda.get_device_name(0)"
   ]
  },
  {
   "cell_type": "code",
   "execution_count": 3,
   "metadata": {},
   "outputs": [],
   "source": [
    "(x_train,y_train),(x_test,y_test) = tf.keras.datasets.mnist.load_data()\n",
    "x_train = torch.Tensor(x_train).view(-1,28*28).to(device)\n",
    "x_test = torch.Tensor(x_test).view(-1,28*28).to(device)\n",
    "y_train = torch.Tensor(y_train).to(device).long()\n",
    "y_test = torch.Tensor(y_test).to(device).long()"
   ]
  },
  {
   "cell_type": "code",
   "execution_count": 4,
   "metadata": {},
   "outputs": [],
   "source": [
    "class LogisticRegression(nn.Module):\n",
    "    def __init__(self, input_size, num_classes):\n",
    "        super(LogisticRegression, self).__init__()\n",
    "        self.Linear = nn.Linear(input_size, num_classes)\n",
    "        \n",
    "    def forward(self,x):\n",
    "        return self.Linear(x)\n",
    "    \n",
    "    def predict(self,x):\n",
    "        out = model(x)\n",
    "        _, out = torch.max(out,1)\n",
    "        return out"
   ]
  },
  {
   "cell_type": "code",
   "execution_count": 5,
   "metadata": {},
   "outputs": [],
   "source": [
    "input_size = 28*28\n",
    "num_classes = 10\n",
    "lr = 0.0001\n",
    "\n",
    "model = LogisticRegression(input_size,num_classes).to(device)\n",
    "\n",
    "criterion = torch.nn.CrossEntropyLoss()\n",
    "optimizer = optim.SGD(model.parameters(), lr=lr)\n",
    "for epoch in range(100):\n",
    "    outputs = model(x_train)\n",
    "    loss = criterion(outputs,y_train)\n",
    "    loss.backward()\n",
    "    optimizer.step()"
   ]
  },
  {
   "cell_type": "code",
   "execution_count": 6,
   "metadata": {},
   "outputs": [
    {
     "data": {
      "text/plain": [
       "0.8949"
      ]
     },
     "execution_count": 6,
     "metadata": {},
     "output_type": "execute_result"
    }
   ],
   "source": [
    "metrics.accuracy_score(y_test.cpu(),model.predict(x_test).cpu())"
   ]
  },
  {
   "cell_type": "code",
   "execution_count": 7,
   "metadata": {},
   "outputs": [
    {
     "data": {
      "text/plain": [
       "array([[ 951,    0,    4,    4,    0,   11,    4,    3,    2,    1],\n",
       "       [   0, 1078,    6,   11,    0,    3,    3,    1,   32,    1],\n",
       "       [   8,    1,  923,   16,   14,    6,    9,   21,   24,   10],\n",
       "       [   5,    0,   31,  878,    1,   41,    2,   10,   25,   17],\n",
       "       [   2,    0,    3,    3,  901,    0,    8,    3,   16,   46],\n",
       "       [  13,    3,    7,   32,   12,  758,   16,    6,   37,    8],\n",
       "       [  24,    2,   10,    5,   29,   14,  869,    1,    3,    1],\n",
       "       [   4,    6,   26,   16,    7,    0,    0,  916,    4,   49],\n",
       "       [  10,    3,   22,   46,   16,   61,    8,   13,  770,   25],\n",
       "       [   4,    4,    3,    9,   41,   12,    0,   22,    9,  905]],\n",
       "      dtype=int64)"
      ]
     },
     "execution_count": 7,
     "metadata": {},
     "output_type": "execute_result"
    }
   ],
   "source": [
    "metrics.confusion_matrix(y_test.cpu(),model.predict(x_test).cpu())"
   ]
  },
  {
   "cell_type": "markdown",
   "metadata": {},
   "source": [
    "### LR using sklearn"
   ]
  },
  {
   "cell_type": "code",
   "execution_count": 8,
   "metadata": {},
   "outputs": [
    {
     "data": {
      "text/plain": [
       "0.8468"
      ]
     },
     "execution_count": 8,
     "metadata": {},
     "output_type": "execute_result"
    }
   ],
   "source": [
    "(x_train,y_train),(x_test,y_test) = tf.keras.datasets.mnist.load_data()\n",
    "x_train,x_test = x_train.reshape(-1,28*28), x_test.reshape(-1,28*28)\n",
    "model = linear_model.LogisticRegression(multi_class='auto', solver='newton-cg', n_jobs=4)\n",
    "model.fit(x_train[:1000],y_train[:1000])\n",
    "pred = model.predict(x_test)\n",
    "metrics.accuracy_score(y_test,pred)"
   ]
  },
  {
   "cell_type": "code",
   "execution_count": 9,
   "metadata": {},
   "outputs": [
    {
     "data": {
      "text/plain": [
       "array([[ 931,    0,   11,    4,    0,    4,   11,    9,    6,    4],\n",
       "       [   0, 1096,    2,    2,    1,    2,    5,    3,   23,    1],\n",
       "       [   9,   11,  895,   19,   11,    2,   21,   16,   38,   10],\n",
       "       [   6,    1,   54,  761,    3,  109,    8,   23,   25,   20],\n",
       "       [   3,    2,   10,   10,  826,    5,   20,    3,   14,   89],\n",
       "       [  21,    6,   15,   31,   21,  687,   21,   22,   46,   22],\n",
       "       [  11,    6,   30,    0,   11,   44,  845,    1,   10,    0],\n",
       "       [   2,   13,   34,   19,    6,    7,    1,  898,    1,   47],\n",
       "       [  13,   20,   20,   16,   14,   58,   24,   31,  739,   39],\n",
       "       [  10,    5,   11,   30,   46,   26,    2,   85,    4,  790]],\n",
       "      dtype=int64)"
      ]
     },
     "execution_count": 9,
     "metadata": {},
     "output_type": "execute_result"
    }
   ],
   "source": [
    "metrics.confusion_matrix(y_test,pred)"
   ]
  },
  {
   "cell_type": "markdown",
   "metadata": {},
   "source": [
    "### CNN using pytorch"
   ]
  },
  {
   "cell_type": "code",
   "execution_count": 10,
   "metadata": {},
   "outputs": [],
   "source": [
    "device = torch.device(0)\n",
    "torch.cuda.get_device_name(0)\n",
    "\n",
    "(x_train,y_train),(x_test,y_test) = tf.keras.datasets.mnist.load_data()\n",
    "x_train = torch.Tensor(x_train).view(-1,1,28,28).to(device)\n",
    "x_test = torch.Tensor(x_test).view(-1,1,28,28).to(device)\n",
    "y_train = torch.Tensor(y_train).to(device).long()\n",
    "y_test = torch.Tensor(y_test).to(device).long()"
   ]
  },
  {
   "cell_type": "code",
   "execution_count": 11,
   "metadata": {},
   "outputs": [],
   "source": [
    "class Net(nn.Module):\n",
    "    def __init__(self):\n",
    "        super(Net, self).__init__()\n",
    "        self.conv1 = nn.Conv2d(1,4,5)\n",
    "        self.conv2 = nn.Conv2d(4,10,5)\n",
    "        self.fc1 = nn.Linear(10*4*4, 60)\n",
    "        self.fc2 = nn.Linear(60,10)\n",
    "        \n",
    "    def forward(self,x):\n",
    "        x = F.relu(self.conv1(x)) #4,24,24\n",
    "        x = F.max_pool2d(x,2)     #4,12,12\n",
    "        x = F.relu(self.conv2(x)) #10,8,8\n",
    "        x = F.max_pool2d(x,2)     #10,4,4\n",
    "        x = x.view(-1,10*4*4)\n",
    "        x = F.relu(self.fc1(x))\n",
    "        x = self.fc2(x)\n",
    "        return x\n",
    "    \n",
    "    def predict(self,x):\n",
    "        out = model(x)\n",
    "        _, out = torch.max(out,1)\n",
    "        return out"
   ]
  },
  {
   "cell_type": "code",
   "execution_count": 12,
   "metadata": {},
   "outputs": [
    {
     "name": "stdout",
     "output_type": "stream",
     "text": [
      "0 11.83 %\n",
      "5 23.28 %\n",
      "10 34.5 %\n",
      "15 44.03 %\n",
      "20 59.69 %\n",
      "25 67.33 %\n",
      "30 75.44 %\n",
      "35 80.72 %\n",
      "40 83.6 %\n",
      "45 85.33 %\n",
      "50 86.78 %\n",
      "55 87.68 %\n",
      "60 88.58 %\n",
      "65 89.12 %\n",
      "70 89.82 %\n",
      "75 90.25 %\n",
      "80 90.47 %\n",
      "85 90.73 %\n",
      "90 90.97 %\n",
      "95 91.25 %\n"
     ]
    }
   ],
   "source": [
    "lr = 0.001\n",
    "model = Net().to(device)\n",
    "criterion = torch.nn.CrossEntropyLoss()\n",
    "optimizer = optim.SGD(model.parameters(), lr=lr, momentum=0.9)\n",
    "\n",
    "for epoch in range(100):\n",
    "    optimizer.zero_grad()\n",
    "    outputs = model(x_train)\n",
    "    loss = criterion(outputs,y_train)\n",
    "    loss.backward()\n",
    "    optimizer.step()\n",
    "    if epoch%5==0:\n",
    "        pred = model.predict(x_test)\n",
    "        precision = metrics.accuracy_score(y_test.cpu(),pred.cpu())\n",
    "        print(epoch, round(100*precision,2),'%')"
   ]
  },
  {
   "cell_type": "code",
   "execution_count": 13,
   "metadata": {},
   "outputs": [
    {
     "data": {
      "text/plain": [
       "array([[ 944,    0,    4,    1,    0,    8,   14,    3,    5,    1],\n",
       "       [   0, 1102,    7,    2,    4,    0,    3,    1,   16,    0],\n",
       "       [   9,    3,  909,   27,   16,    9,   13,   15,   18,   13],\n",
       "       [  11,    2,   29,  902,    0,   32,    6,   11,   14,    3],\n",
       "       [   4,    4,    2,    0,  903,    4,   14,    2,    8,   41],\n",
       "       [  15,    3,    2,   30,    6,  770,   15,    7,   34,   10],\n",
       "       [  13,    5,    7,    1,    9,   25,  886,    2,    9,    1],\n",
       "       [   1,    9,   35,    9,    7,    6,    0,  920,    6,   35],\n",
       "       [   4,    4,   11,   22,    5,   11,    8,   10,  881,   18],\n",
       "       [   9,    9,    1,    8,   30,   14,    1,   22,    7,  908]],\n",
       "      dtype=int64)"
      ]
     },
     "execution_count": 13,
     "metadata": {},
     "output_type": "execute_result"
    }
   ],
   "source": [
    "metrics.confusion_matrix(y_test.cpu(),pred.cpu())"
   ]
  },
  {
   "cell_type": "code",
   "execution_count": null,
   "metadata": {},
   "outputs": [],
   "source": []
  }
 ],
 "metadata": {
  "kernelspec": {
   "display_name": "Python 3",
   "language": "python",
   "name": "python3"
  },
  "language_info": {
   "codemirror_mode": {
    "name": "ipython",
    "version": 3
   },
   "file_extension": ".py",
   "mimetype": "text/x-python",
   "name": "python",
   "nbconvert_exporter": "python",
   "pygments_lexer": "ipython3",
   "version": "3.6.8"
  }
 },
 "nbformat": 4,
 "nbformat_minor": 2
}
